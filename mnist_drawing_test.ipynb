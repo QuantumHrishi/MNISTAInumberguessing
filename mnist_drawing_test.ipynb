{
 "cells": [
  {
   "cell_type": "code",
   "execution_count": 39,
   "id": "cc65955a",
   "metadata": {},
   "outputs": [],
   "source": [
    "from PIL import Image\n",
    "import pygame\n",
    "import glob\n",
    "import os\n",
    "\n",
    "pygame.init()\n",
    "screen = pygame.display.set_mode((600,400))\n",
    "pygame.display.set_caption(\"Trace\")\n",
    "clock = pygame.time.Clock()\n",
    "\n",
    "loop = True\n",
    "press = False\n",
    "color = \"black\"\n",
    "screen.fill(pygame.Color(255, 255, 255))\n",
    "cnt = 0\n",
    "[os.remove(png) for png in glob.glob(\"*png\")]\n",
    "while loop:\n",
    "    try:\n",
    "        #pygame.mouse.set_visible(False)\n",
    "        for event in pygame.event.get():\n",
    "            if event.type == pygame.QUIT:\n",
    "                loop = False\n",
    "            if event.type == pygame.KEYDOWN:\n",
    "                if event.key == pygame.K_c:\n",
    "                    screen.fill(pygame.Color(255, 255, 255))\n",
    "                if event.key == pygame.K_s:\n",
    "                    if cnt < 10:\n",
    "                        pygame.image.save(screen, f\"screenshot00.png\")\n",
    "                    else:\n",
    "                        pygame.image.save(screen, f\"screenshot{cnt}.png\")\n",
    "                    cnt += 1\n",
    "                if event.key == pygame.K_g:\n",
    "                        frames = []\n",
    "                        imgs = glob.glob(\"*.png\")\n",
    "                        for i in imgs:\n",
    "                            new_frame = Image.open(i)\n",
    "                            frames.append(new_frame)\n",
    "\n",
    "                        # Save into a GIF file that loops forever\n",
    "                        frames[0].save('animated.gif', format='GIF',\n",
    "                                       append_images=frames[1:],\n",
    "                                       save_all=True,\n",
    "                                       duration=300, loop=0)\n",
    "                        os.startfile(\"animated.gif\")\n",
    "\n",
    "    \n",
    "        px, py = pygame.mouse.get_pos()\n",
    "        if pygame.mouse.get_pressed() == (1,0,0):\n",
    "            pygame.draw.rect(screen, (0,0,0), (px,py,30,30))\n",
    "        if pygame.mouse.get_pressed() == (0,0,1):\n",
    "            pygame.draw.rect(screen, (255,255,255), (px,py,10,10))\n",
    "\n",
    "        if event.type == pygame.MOUSEBUTTONUP:\n",
    "            press == False\n",
    "        pygame.display.update()\n",
    "        clock.tick(1000)\n",
    "    except Exception as e:\n",
    "        print(e)\n",
    "        pygame.quit()\n",
    "        \n",
    "pygame.quit()"
   ]
  },
  {
   "cell_type": "code",
   "execution_count": 43,
   "id": "d40f7db5",
   "metadata": {},
   "outputs": [],
   "source": [
    "from keras.preprocessing import image\n",
    "from PIL import Image,ImageChops \n",
    "import tensorflow as tf\n",
    "from tensorflow import keras\n",
    "from tensorflow.keras.datasets import mnist\n",
    "from tensorflow.keras import backend as K\n",
    "import numpy as np\n",
    "import matplotlib.pyplot as plt\n",
    "%matplotlib inline\n",
    "\n",
    "# helper functions\n",
    "def show_min_max(array, i):\n",
    "  random_image = array[i]\n",
    "  print(random_image.min(), random_image.max())\n",
    "\n",
    "def plot_image(array, i, labels):\n",
    "  plt.imshow(np.squeeze(array[i]))\n",
    "  plt.title(\" Digit \" + str(labels[i]))\n",
    "  plt.xticks([])\n",
    "  plt.yticks([])\n",
    "  plt.show()\n",
    "\n",
    "def predict_image(model, x):\n",
    "  x = x.astype('float32')\n",
    "  x = x / 255.0\n",
    "\n",
    "  x = np.expand_dims(x, axis=0)\n",
    "\n",
    "  image_predict = model.predict(x, verbose=0)\n",
    "  print(\"Predicted Label: \", np.argmax(image_predict))\n",
    "\n",
    "  plt.imshow(np.squeeze(x))\n",
    "  plt.xticks([])\n",
    "  plt.yticks([])\n",
    "  plt.show()\n",
    "  return image_predict\n",
    "\n",
    "def plot_value_array(predictions_array, true_label, h):\n",
    "  plt.grid(False)\n",
    "  plt.xticks(range(10))\n",
    "  plt.yticks([])\n",
    "  thisplot = plt.bar(range(10), predictions_array[0], color=\"#777777\")\n",
    "  plt.ylim([(-1*h), h])\n",
    "  predicted_label = np.argmax(predictions_array)\n",
    "  thisplot[predicted_label].set_color('red')\n",
    "  thisplot[true_label].set_color('blue')\n",
    "  plt.show()\n",
    "\n",
    "model = tf.keras.models.load_model('neural_net1.h5')"
   ]
  },
  {
   "cell_type": "code",
   "execution_count": 44,
   "id": "b10153ce",
   "metadata": {},
   "outputs": [
    {
     "name": "stdout",
     "output_type": "stream",
     "text": [
      "Predicted Label:  2\n"
     ]
    },
    {
     "data": {
      "image/png": "[encoded data removed]",
      "text/plain": [
       "<Figure size 640x480 with 1 Axes>"
      ]
     },
     "metadata": {},
     "output_type": "display_data"
    }
   ],
   "source": [
    "path = \"screenshot00.png\"\n",
    "\n",
    "img = tf.keras.preprocessing.image.load_img(path, target_size=(28,28), color_mode = \"grayscale\")\n",
    "x = tf.keras.preprocessing.image.img_to_array(img)\n",
    "true_label = 1\n",
    "p_arr = predict_image(model, x)"
   ]
  },
  {
   "cell_type": "code",
   "execution_count": null,
   "id": "46663a27",
   "metadata": {},
   "outputs": [],
   "source": []
  },
  {
   "cell_type": "code",
   "execution_count": null,
   "id": "8b8d4c2f",
   "metadata": {},
   "outputs": [],
   "source": []
  }
 ],
 "metadata": {
  "kernelspec": {
   "display_name": "Python 3 (ipykernel)",
   "language": "python",
   "name": "python3"
  },
  "language_info": {
   "codemirror_mode": {
    "name": "ipython",
    "version": 3
   },
   "file_extension": ".py",
   "mimetype": "text/x-python",
   "name": "python",
   "nbconvert_exporter": "python",
   "pygments_lexer": "ipython3",
   "version": "3.10.0"
  }
 },
 "nbformat": 4,
 "nbformat_minor": 5
}
